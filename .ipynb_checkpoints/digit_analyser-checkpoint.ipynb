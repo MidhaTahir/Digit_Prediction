{
 "cells": [
  {
   "cell_type": "code",
   "execution_count": 1,
   "metadata": {},
   "outputs": [],
   "source": [
    "from tkinter import *\n",
    "import tkinter as tk\n",
    "from PIL import Image,ImageTk\n",
    "import tkinter.filedialog\n",
    "import matplotlib.pyplot as plt\n",
    "from tensorflow.keras.datasets import mnist\n",
    "from tensorflow.keras.models import load_model\n",
    "from skimage import io\n",
    "from skimage.color import rgb2gray"
   ]
  },
  {
   "cell_type": "code",
   "execution_count": 2,
   "metadata": {},
   "outputs": [
    {
     "name": "stdout",
     "output_type": "stream",
     "text": [
      "WARNING:tensorflow:From C:\\Users\\Toshiba\\Anaconda3\\lib\\site-packages\\tensorflow_core\\python\\ops\\init_ops.py:97: calling GlorotUniform.__init__ (from tensorflow.python.ops.init_ops) with dtype is deprecated and will be removed in a future version.\n",
      "Instructions for updating:\n",
      "Call initializer instance with the dtype argument instead of passing it to the constructor\n",
      "WARNING:tensorflow:From C:\\Users\\Toshiba\\Anaconda3\\lib\\site-packages\\tensorflow_core\\python\\ops\\init_ops.py:97: calling Zeros.__init__ (from tensorflow.python.ops.init_ops) with dtype is deprecated and will be removed in a future version.\n",
      "Instructions for updating:\n",
      "Call initializer instance with the dtype argument instead of passing it to the constructor\n",
      "WARNING:tensorflow:From C:\\Users\\Toshiba\\Anaconda3\\lib\\site-packages\\tensorflow_core\\python\\ops\\resource_variable_ops.py:1630: calling BaseResourceVariable.__init__ (from tensorflow.python.ops.resource_variable_ops) with constraint is deprecated and will be removed in a future version.\n",
      "Instructions for updating:\n",
      "If using Keras pass *_constraint arguments to layers.\n"
     ]
    }
   ],
   "source": [
    "global win,model\n",
    "model = load_model('trained_model.h5')"
   ]
  },
  {
   "cell_type": "code",
   "execution_count": 3,
   "metadata": {},
   "outputs": [],
   "source": [
    "def upload():\n",
    "    global path\n",
    "    path = tk.filedialog.askopenfilename()\n",
    "    load = Image.open(path)\n",
    "    size = (600 ,486)\n",
    "    load = load.resize(size,Image.ANTIALIAS)\n",
    "    render = ImageTk.PhotoImage(load)\n",
    "    img = Label(win,image=render,borderwidth=2, relief=\"solid\")\n",
    "    img.image = render\n",
    "    img.place(x=650, y=80)\n",
    "    plt.imshow(load)"
   ]
  },
  {
   "cell_type": "code",
   "execution_count": 4,
   "metadata": {},
   "outputs": [],
   "source": [
    "def detect():\n",
    "    original= io.imread(path)\n",
    "    grayscale = rgb2gray(original)\n",
    "    final = model.predict(grayscale.reshape(-1,784))\n",
    "    label = Label(win,font = (\"helvetica\",32, \"bold\"),foreground=\"white smoke\",background='sea green')\n",
    "    label.place(x=712,y=608)\n",
    "    label.config(text=\"The predicted digit is: %d\"%final.argmax())"
   ]
  },
  {
   "cell_type": "code",
   "execution_count": 5,
   "metadata": {},
   "outputs": [
    {
     "data": {
      "image/png": "[encoded data removed]",
      "text/plain": [
       "<Figure size 432x288 with 1 Axes>"
      ]
     },
     "metadata": {
      "needs_background": "light"
     },
     "output_type": "display_data"
    }
   ],
   "source": [
    "win = Tk()\n",
    "win.title('DIGIT ANALYSER')\n",
    "width_value = win.winfo_screenwidth()\n",
    "height_value = win.winfo_screenheight()\n",
    "win.geometry('%dx%d+0+0'%(width_value,height_value))\n",
    "\n",
    "image = Image.open('images/back.jpg')\n",
    "back_image = ImageTk.PhotoImage(image)\n",
    "label_ = Label(image = back_image)\n",
    "label_.pack()\n",
    "\n",
    "#upload\n",
    "b1_image = PhotoImage(file=\"images/b1.png\")\n",
    "up = Button(win,image=b1_image,cursor=\"hand2\",command=upload)\n",
    "up.place(x=100,y=200)\n",
    "\n",
    "\n",
    "b2_image = PhotoImage(file=\"images/b2.png\")\n",
    "d = Button(win,image=b2_image,cursor=\"hand2\",command=detect)\n",
    "d.place(x=100,y=380)\n",
    "\n",
    "win.mainloop()"
   ]
  },
  {
   "cell_type": "code",
   "execution_count": null,
   "metadata": {},
   "outputs": [],
   "source": []
  },
  {
   "cell_type": "code",
   "execution_count": null,
   "metadata": {},
   "outputs": [],
   "source": []
  }
 ],
 "metadata": {
  "kernelspec": {
   "display_name": "Python 3",
   "language": "python",
   "name": "python3"
  },
  "language_info": {
   "codemirror_mode": {
    "name": "ipython",
    "version": 3
   },
   "file_extension": ".py",
   "mimetype": "text/x-python",
   "name": "python",
   "nbconvert_exporter": "python",
   "pygments_lexer": "ipython3",
   "version": "3.7.4"
  }
 },
 "nbformat": 4,
 "nbformat_minor": 2
}
